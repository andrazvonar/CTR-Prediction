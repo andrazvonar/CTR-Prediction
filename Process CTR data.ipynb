{
 "cells": [
  {
   "cell_type": "code",
   "execution_count": 1,
   "metadata": {},
   "outputs": [
    {
     "name": "stderr",
     "output_type": "stream",
     "text": [
      "Using TensorFlow backend.\n"
     ]
    }
   ],
   "source": [
    "import pandas as pd\n",
    "import numpy as np\n",
    "import mmh3\n",
    "from sklearn.feature_extraction import FeatureHasher\n",
    "from keras.utils import to_categorical\n",
    "import time\n",
    "import datetime\n",
    "import progressbar"
   ]
  },
  {
   "cell_type": "markdown",
   "metadata": {},
   "source": [
    "## Load data"
   ]
  },
  {
   "cell_type": "code",
   "execution_count": 2,
   "metadata": {
    "collapsed": true
   },
   "outputs": [],
   "source": [
    "col_names = pd.read_csv('/Users/andraz/DataScienceSchool/summer_school/ftrs.txt')\n",
    "col_names = list(col_names.columns)\n",
    "#col_names = [\"index\"] + col_names"
   ]
  },
  {
   "cell_type": "code",
   "execution_count": 3,
   "metadata": {
    "collapsed": true
   },
   "outputs": [],
   "source": [
    "def load_data(filename):\n",
    "    data = pd.read_csv('/Users/andraz/DataScienceSchool/summer_school/' + filename)\n",
    "    data.columns = col_names\n",
    "    return data"
   ]
  },
  {
   "cell_type": "markdown",
   "metadata": {},
   "source": [
    "## Select columns"
   ]
  },
  {
   "cell_type": "code",
   "execution_count": 4,
   "metadata": {
    "collapsed": true
   },
   "outputs": [],
   "source": [
    "def remove_cols(data, selected_feature_names):\n",
    "    cols_to_remove = list(set(col_names) - set(selected_feature_names))\n",
    "    return data.drop(cols_to_remove, axis=1)"
   ]
  },
  {
   "cell_type": "markdown",
   "metadata": {},
   "source": [
    "## Encode yes/no"
   ]
  },
  {
   "cell_type": "code",
   "execution_count": 5,
   "metadata": {
    "collapsed": true
   },
   "outputs": [],
   "source": [
    "def yesno_to_int(attr):\n",
    "    if attr == 'yes':\n",
    "        return 1\n",
    "    else:\n",
    "        return 0\n",
    "\n",
    "def yesno(column, feature_name):\n",
    "    return column.apply (lambda row: yesno_to_int(row[feature_name]), axis=1)\n",
    "\n",
    "def encode_yes_no(data, features_to_encode):\n",
    "    print(\"*** Encoding yes/no ***\")\n",
    "    pbar = progressbar.ProgressBar(maxval=len(features_to_encode)).start()\n",
    "    \n",
    "    for feature in features_to_encode:\n",
    "        data[feature] = yesno(data, feature)\n",
    "        pbar.update(features_to_encode.index(feature) + 1)    \n",
    "    return data"
   ]
  },
  {
   "cell_type": "markdown",
   "metadata": {},
   "source": [
    "## Hash"
   ]
  },
  {
   "cell_type": "code",
   "execution_count": 6,
   "metadata": {
    "collapsed": true
   },
   "outputs": [],
   "source": [
    "def hash_col(column, feature_name):\n",
    "    return column.apply (lambda row: mmh3.hash(str(row[feature_name]), signed=False) % 2**20, axis=1)"
   ]
  },
  {
   "cell_type": "markdown",
   "metadata": {},
   "source": [
    "## Process data"
   ]
  },
  {
   "cell_type": "code",
   "execution_count": 2,
   "metadata": {},
   "outputs": [],
   "source": [
    "selected_feature_names = ['click', 'account_id', 'adgroup_id', 'titlehash', 'urldomain', 'os2', 'devicemodel', 'browser', 'country', 'imo_adslots', 'imp_adunit', 'imp_layout', 'imp_seq', 'imp_num', 'impcount', 'nslashes', 'devicetype', 'conntype', 'fp_nclicks_dom_1h', 'fp_nseen_all_1h', 'fp_nclicks_all_1h', 'fp_nseen_dom_1h', 'metro', 'bid_floor', 'dailiy_budget', 'win_price', 'slideshow', 'pictures', 'gallery', 'listicle', 'quiz', 'video', 'has_zuid', 'has_clicked']\n",
    "yesno_features_to_encode = ['slideshow', 'pictures', 'listicle', 'quiz', 'video', 'has_zuid', 'has_clicked', 'gallery']\n",
    "features_to_hash = ['browser', 'os2', 'urldomain', 'account_id', 'titlehash', 'country', 'adgroup_id', 'devicemodel']\n",
    "start_index = 1\n",
    "end_index = 26"
   ]
  },
  {
   "cell_type": "code",
   "execution_count": 10,
   "metadata": {},
   "outputs": [
    {
     "name": "stdout",
     "output_type": "stream",
     "text": [
      "Processing ctr_001.csv [1/25]\n",
      "Loading data ...\n",
      "Done\n"
     ]
    },
    {
     "name": "stderr",
     "output_type": "stream",
     "text": [
      "  0% |                                                                        |\r"
     ]
    },
    {
     "name": "stdout",
     "output_type": "stream",
     "text": [
      "Removed features\n",
      "*** Encoding yes/no ***\n"
     ]
    },
    {
     "name": "stderr",
     "output_type": "stream",
     "text": [
      "  0% |                                                                        |\r"
     ]
    },
    {
     "name": "stdout",
     "output_type": "stream",
     "text": [
      "*** Hashing ***\n"
     ]
    },
    {
     "name": "stderr",
     "output_type": "stream",
     "text": [
      "100% |########################################################################|\r"
     ]
    },
    {
     "name": "stdout",
     "output_type": "stream",
     "text": [
      "ctr_001.csv done\n",
      "Elapsed:  0:05:34.042295\n",
      "----------------------------\n",
      "\n",
      "Processing ctr_002.csv [2/25]\n",
      "Loading data ...\n",
      "Done\n"
     ]
    },
    {
     "name": "stderr",
     "output_type": "stream",
     "text": [
      "  0% |                                                                        |\r"
     ]
    },
    {
     "name": "stdout",
     "output_type": "stream",
     "text": [
      "Removed features\n",
      "*** Encoding yes/no ***\n"
     ]
    },
    {
     "name": "stderr",
     "output_type": "stream",
     "text": [
      "  0% |                                                                        |\r"
     ]
    },
    {
     "name": "stdout",
     "output_type": "stream",
     "text": [
      "*** Hashing ***\n"
     ]
    },
    {
     "name": "stderr",
     "output_type": "stream",
     "text": [
      "100% |########################################################################|\r"
     ]
    },
    {
     "name": "stdout",
     "output_type": "stream",
     "text": [
      "ctr_002.csv done\n",
      "Elapsed:  0:04:32.647845\n",
      "----------------------------\n",
      "\n",
      "Processing ctr_003.csv [3/25]\n",
      "Loading data ...\n",
      "Done\n"
     ]
    },
    {
     "name": "stderr",
     "output_type": "stream",
     "text": [
      "  0% |                                                                        |\r"
     ]
    },
    {
     "name": "stdout",
     "output_type": "stream",
     "text": [
      "Removed features\n",
      "*** Encoding yes/no ***\n"
     ]
    },
    {
     "name": "stderr",
     "output_type": "stream",
     "text": [
      "  0% |                                                                        |\r"
     ]
    },
    {
     "name": "stdout",
     "output_type": "stream",
     "text": [
      "*** Hashing ***\n"
     ]
    },
    {
     "name": "stderr",
     "output_type": "stream",
     "text": [
      "100% |########################################################################|\r"
     ]
    },
    {
     "name": "stdout",
     "output_type": "stream",
     "text": [
      "ctr_003.csv done\n",
      "Elapsed:  0:06:08.049908\n",
      "----------------------------\n",
      "\n",
      "Processing ctr_004.csv [4/25]\n",
      "Loading data ...\n",
      "Done\n"
     ]
    },
    {
     "name": "stderr",
     "output_type": "stream",
     "text": [
      "  0% |                                                                        |\r"
     ]
    },
    {
     "name": "stdout",
     "output_type": "stream",
     "text": [
      "Removed features\n",
      "*** Encoding yes/no ***\n"
     ]
    },
    {
     "name": "stderr",
     "output_type": "stream",
     "text": [
      "  0% |                                                                        |\r"
     ]
    },
    {
     "name": "stdout",
     "output_type": "stream",
     "text": [
      "*** Hashing ***\n"
     ]
    },
    {
     "name": "stderr",
     "output_type": "stream",
     "text": [
      "100% |########################################################################|\r"
     ]
    },
    {
     "name": "stdout",
     "output_type": "stream",
     "text": [
      "ctr_004.csv done\n",
      "Elapsed:  0:06:07.118241\n",
      "----------------------------\n",
      "\n",
      "Processing ctr_005.csv [5/25]\n",
      "Loading data ...\n",
      "Done\n"
     ]
    },
    {
     "name": "stderr",
     "output_type": "stream",
     "text": [
      "  0% |                                                                        |\r"
     ]
    },
    {
     "name": "stdout",
     "output_type": "stream",
     "text": [
      "Removed features\n",
      "*** Encoding yes/no ***\n"
     ]
    },
    {
     "name": "stderr",
     "output_type": "stream",
     "text": [
      "  0% |                                                                        |\r"
     ]
    },
    {
     "name": "stdout",
     "output_type": "stream",
     "text": [
      "*** Hashing ***\n"
     ]
    },
    {
     "name": "stderr",
     "output_type": "stream",
     "text": [
      "100% |########################################################################|\r"
     ]
    },
    {
     "name": "stdout",
     "output_type": "stream",
     "text": [
      "ctr_005.csv done\n",
      "Elapsed:  0:06:10.107860\n",
      "----------------------------\n",
      "\n",
      "Processing ctr_006.csv [6/25]\n",
      "Loading data ...\n",
      "Done\n"
     ]
    },
    {
     "name": "stderr",
     "output_type": "stream",
     "text": [
      "  0% |                                                                        |\r"
     ]
    },
    {
     "name": "stdout",
     "output_type": "stream",
     "text": [
      "Removed features\n",
      "*** Encoding yes/no ***\n"
     ]
    },
    {
     "name": "stderr",
     "output_type": "stream",
     "text": [
      "  0% |                                                                        |\r"
     ]
    },
    {
     "name": "stdout",
     "output_type": "stream",
     "text": [
      "*** Hashing ***\n"
     ]
    },
    {
     "name": "stderr",
     "output_type": "stream",
     "text": [
      "100% |########################################################################|\r"
     ]
    },
    {
     "name": "stdout",
     "output_type": "stream",
     "text": [
      "ctr_006.csv done\n",
      "Elapsed:  0:06:00.025540\n",
      "----------------------------\n",
      "\n",
      "Processing ctr_007.csv [7/25]\n",
      "Loading data ...\n",
      "Done\n"
     ]
    },
    {
     "name": "stderr",
     "output_type": "stream",
     "text": [
      "  0% |                                                                        |\r"
     ]
    },
    {
     "name": "stdout",
     "output_type": "stream",
     "text": [
      "Removed features\n",
      "*** Encoding yes/no ***\n"
     ]
    },
    {
     "name": "stderr",
     "output_type": "stream",
     "text": [
      "  0% |                                                                        |\r"
     ]
    },
    {
     "name": "stdout",
     "output_type": "stream",
     "text": [
      "*** Hashing ***\n"
     ]
    },
    {
     "name": "stderr",
     "output_type": "stream",
     "text": [
      "100% |########################################################################|\r"
     ]
    },
    {
     "name": "stdout",
     "output_type": "stream",
     "text": [
      "ctr_007.csv done\n",
      "Elapsed:  0:05:41.787830\n",
      "----------------------------\n",
      "\n",
      "Processing ctr_008.csv [8/25]\n",
      "Loading data ...\n",
      "Done\n"
     ]
    },
    {
     "name": "stderr",
     "output_type": "stream",
     "text": [
      "  0% |                                                                        |\r"
     ]
    },
    {
     "name": "stdout",
     "output_type": "stream",
     "text": [
      "Removed features\n",
      "*** Encoding yes/no ***\n"
     ]
    },
    {
     "name": "stderr",
     "output_type": "stream",
     "text": [
      "  0% |                                                                        |\r"
     ]
    },
    {
     "name": "stdout",
     "output_type": "stream",
     "text": [
      "*** Hashing ***\n"
     ]
    },
    {
     "name": "stderr",
     "output_type": "stream",
     "text": [
      "100% |########################################################################|\r"
     ]
    },
    {
     "name": "stdout",
     "output_type": "stream",
     "text": [
      "ctr_008.csv done\n",
      "Elapsed:  0:06:31.354910\n",
      "----------------------------\n",
      "\n",
      "Processing ctr_009.csv [9/25]\n",
      "Loading data ...\n",
      "Done\n"
     ]
    },
    {
     "name": "stderr",
     "output_type": "stream",
     "text": [
      "  0% |                                                                        |\r"
     ]
    },
    {
     "name": "stdout",
     "output_type": "stream",
     "text": [
      "Removed features\n",
      "*** Encoding yes/no ***\n"
     ]
    },
    {
     "name": "stderr",
     "output_type": "stream",
     "text": [
      "  0% |                                                                        |\r"
     ]
    },
    {
     "name": "stdout",
     "output_type": "stream",
     "text": [
      "*** Hashing ***\n"
     ]
    },
    {
     "name": "stderr",
     "output_type": "stream",
     "text": [
      "100% |########################################################################|\r"
     ]
    },
    {
     "name": "stdout",
     "output_type": "stream",
     "text": [
      "ctr_009.csv done\n",
      "Elapsed:  0:06:30.712692\n",
      "----------------------------\n",
      "\n",
      "Processing ctr_010.csv [10/25]\n",
      "Loading data ...\n",
      "Done\n"
     ]
    },
    {
     "name": "stderr",
     "output_type": "stream",
     "text": [
      "  0% |                                                                        |\r"
     ]
    },
    {
     "name": "stdout",
     "output_type": "stream",
     "text": [
      "Removed features\n",
      "*** Encoding yes/no ***\n"
     ]
    },
    {
     "name": "stderr",
     "output_type": "stream",
     "text": [
      "  0% |                                                                        |\r"
     ]
    },
    {
     "name": "stdout",
     "output_type": "stream",
     "text": [
      "*** Hashing ***\n"
     ]
    },
    {
     "name": "stderr",
     "output_type": "stream",
     "text": [
      "100% |########################################################################|\r"
     ]
    },
    {
     "name": "stdout",
     "output_type": "stream",
     "text": [
      "ctr_010.csv done\n",
      "Elapsed:  0:06:39.162799\n",
      "----------------------------\n",
      "\n",
      "Processing ctr_011.csv [11/25]\n",
      "Loading data ...\n",
      "Done\n"
     ]
    },
    {
     "name": "stderr",
     "output_type": "stream",
     "text": [
      "  0% |                                                                        |\r"
     ]
    },
    {
     "name": "stdout",
     "output_type": "stream",
     "text": [
      "Removed features\n",
      "*** Encoding yes/no ***\n"
     ]
    },
    {
     "name": "stderr",
     "output_type": "stream",
     "text": [
      "  0% |                                                                        |\r"
     ]
    },
    {
     "name": "stdout",
     "output_type": "stream",
     "text": [
      "*** Hashing ***\n"
     ]
    },
    {
     "name": "stderr",
     "output_type": "stream",
     "text": [
      "100% |########################################################################|\r"
     ]
    },
    {
     "name": "stdout",
     "output_type": "stream",
     "text": [
      "ctr_011.csv done\n",
      "Elapsed:  0:07:03.845140\n",
      "----------------------------\n",
      "\n",
      "Processing ctr_012.csv [12/25]\n",
      "Loading data ...\n",
      "Done\n"
     ]
    },
    {
     "name": "stderr",
     "output_type": "stream",
     "text": [
      "  0% |                                                                        |\r"
     ]
    },
    {
     "name": "stdout",
     "output_type": "stream",
     "text": [
      "Removed features\n",
      "*** Encoding yes/no ***\n"
     ]
    },
    {
     "name": "stderr",
     "output_type": "stream",
     "text": [
      "  0% |                                                                        |\r"
     ]
    },
    {
     "name": "stdout",
     "output_type": "stream",
     "text": [
      "*** Hashing ***\n"
     ]
    },
    {
     "name": "stderr",
     "output_type": "stream",
     "text": [
      "100% |########################################################################|\r"
     ]
    },
    {
     "name": "stdout",
     "output_type": "stream",
     "text": [
      "ctr_012.csv done\n",
      "Elapsed:  0:07:34.044458\n",
      "----------------------------\n",
      "\n",
      "Processing ctr_013.csv [13/25]\n",
      "Loading data ...\n",
      "Done\n"
     ]
    },
    {
     "name": "stderr",
     "output_type": "stream",
     "text": [
      "  0% |                                                                        |\r"
     ]
    },
    {
     "name": "stdout",
     "output_type": "stream",
     "text": [
      "Removed features\n",
      "*** Encoding yes/no ***\n"
     ]
    },
    {
     "name": "stderr",
     "output_type": "stream",
     "text": [
      "  0% |                                                                        |\r"
     ]
    },
    {
     "name": "stdout",
     "output_type": "stream",
     "text": [
      "*** Hashing ***\n"
     ]
    },
    {
     "name": "stderr",
     "output_type": "stream",
     "text": [
      "100% |########################################################################|\r"
     ]
    },
    {
     "name": "stdout",
     "output_type": "stream",
     "text": [
      "ctr_013.csv done\n",
      "Elapsed:  0:07:09.550672\n",
      "----------------------------\n",
      "\n",
      "Processing ctr_014.csv [14/25]\n",
      "Loading data ...\n",
      "Done\n"
     ]
    },
    {
     "name": "stderr",
     "output_type": "stream",
     "text": [
      "  0% |                                                                        |\r"
     ]
    },
    {
     "name": "stdout",
     "output_type": "stream",
     "text": [
      "Removed features\n",
      "*** Encoding yes/no ***\n"
     ]
    },
    {
     "name": "stderr",
     "output_type": "stream",
     "text": [
      "  0% |                                                                        |\r"
     ]
    },
    {
     "name": "stdout",
     "output_type": "stream",
     "text": [
      "*** Hashing ***\n"
     ]
    },
    {
     "name": "stderr",
     "output_type": "stream",
     "text": [
      "100% |########################################################################|\r"
     ]
    },
    {
     "name": "stdout",
     "output_type": "stream",
     "text": [
      "ctr_014.csv done\n",
      "Elapsed:  0:07:40.916862\n",
      "----------------------------\n",
      "\n",
      "Processing ctr_015.csv [15/25]\n",
      "Loading data ...\n",
      "Done\n"
     ]
    },
    {
     "name": "stderr",
     "output_type": "stream",
     "text": [
      "  0% |                                                                        |\r"
     ]
    },
    {
     "name": "stdout",
     "output_type": "stream",
     "text": [
      "Removed features\n",
      "*** Encoding yes/no ***\n"
     ]
    },
    {
     "name": "stderr",
     "output_type": "stream",
     "text": [
      "  0% |                                                                        |\r"
     ]
    },
    {
     "name": "stdout",
     "output_type": "stream",
     "text": [
      "*** Hashing ***\n"
     ]
    },
    {
     "name": "stderr",
     "output_type": "stream",
     "text": [
      "100% |########################################################################|\r"
     ]
    },
    {
     "name": "stdout",
     "output_type": "stream",
     "text": [
      "ctr_015.csv done\n",
      "Elapsed:  0:06:47.988171\n",
      "----------------------------\n",
      "\n",
      "Processing ctr_016.csv [16/25]\n",
      "Loading data ...\n",
      "Done\n"
     ]
    },
    {
     "name": "stderr",
     "output_type": "stream",
     "text": [
      "  0% |                                                                        |\r"
     ]
    },
    {
     "name": "stdout",
     "output_type": "stream",
     "text": [
      "Removed features\n",
      "*** Encoding yes/no ***\n"
     ]
    },
    {
     "name": "stderr",
     "output_type": "stream",
     "text": [
      "  0% |                                                                        |\r"
     ]
    },
    {
     "name": "stdout",
     "output_type": "stream",
     "text": [
      "*** Hashing ***\n"
     ]
    },
    {
     "name": "stderr",
     "output_type": "stream",
     "text": [
      "100% |########################################################################|\r"
     ]
    },
    {
     "name": "stdout",
     "output_type": "stream",
     "text": [
      "ctr_016.csv done\n",
      "Elapsed:  0:05:50.654484\n",
      "----------------------------\n",
      "\n",
      "Processing ctr_017.csv [17/25]\n",
      "Loading data ...\n",
      "Done\n"
     ]
    },
    {
     "name": "stderr",
     "output_type": "stream",
     "text": [
      "  0% |                                                                        |\r"
     ]
    },
    {
     "name": "stdout",
     "output_type": "stream",
     "text": [
      "Removed features\n",
      "*** Encoding yes/no ***\n"
     ]
    },
    {
     "name": "stderr",
     "output_type": "stream",
     "text": [
      "  0% |                                                                        |\r"
     ]
    },
    {
     "name": "stdout",
     "output_type": "stream",
     "text": [
      "*** Hashing ***\n"
     ]
    },
    {
     "name": "stderr",
     "output_type": "stream",
     "text": [
      "100% |########################################################################|\r"
     ]
    },
    {
     "name": "stdout",
     "output_type": "stream",
     "text": [
      "ctr_017.csv done\n",
      "Elapsed:  0:05:21.041876\n",
      "----------------------------\n",
      "\n",
      "Processing ctr_018.csv [18/25]\n",
      "Loading data ...\n",
      "Done\n"
     ]
    },
    {
     "name": "stderr",
     "output_type": "stream",
     "text": [
      "  0% |                                                                        |\r"
     ]
    },
    {
     "name": "stdout",
     "output_type": "stream",
     "text": [
      "Removed features\n",
      "*** Encoding yes/no ***\n"
     ]
    },
    {
     "name": "stderr",
     "output_type": "stream",
     "text": [
      "  0% |                                                                        |\r"
     ]
    },
    {
     "name": "stdout",
     "output_type": "stream",
     "text": [
      "*** Hashing ***\n"
     ]
    },
    {
     "name": "stderr",
     "output_type": "stream",
     "text": [
      "100% |########################################################################|\r"
     ]
    },
    {
     "name": "stdout",
     "output_type": "stream",
     "text": [
      "ctr_018.csv done\n",
      "Elapsed:  0:06:20.289765\n",
      "----------------------------\n",
      "\n",
      "Processing ctr_019.csv [19/25]\n",
      "Loading data ...\n",
      "Done\n"
     ]
    },
    {
     "name": "stderr",
     "output_type": "stream",
     "text": [
      "  0% |                                                                        |\r"
     ]
    },
    {
     "name": "stdout",
     "output_type": "stream",
     "text": [
      "Removed features\n",
      "*** Encoding yes/no ***\n"
     ]
    },
    {
     "name": "stderr",
     "output_type": "stream",
     "text": [
      "  0% |                                                                        |\r"
     ]
    },
    {
     "name": "stdout",
     "output_type": "stream",
     "text": [
      "*** Hashing ***\n"
     ]
    },
    {
     "name": "stderr",
     "output_type": "stream",
     "text": [
      "100% |########################################################################|\r"
     ]
    },
    {
     "name": "stdout",
     "output_type": "stream",
     "text": [
      "ctr_019.csv done\n",
      "Elapsed:  0:05:41.806459\n",
      "----------------------------\n",
      "\n",
      "Processing ctr_020.csv [20/25]\n",
      "Loading data ...\n",
      "Done\n"
     ]
    },
    {
     "name": "stderr",
     "output_type": "stream",
     "text": [
      "  0% |                                                                        |\r"
     ]
    },
    {
     "name": "stdout",
     "output_type": "stream",
     "text": [
      "Removed features\n",
      "*** Encoding yes/no ***\n"
     ]
    },
    {
     "name": "stderr",
     "output_type": "stream",
     "text": [
      "  0% |                                                                        |\r"
     ]
    },
    {
     "name": "stdout",
     "output_type": "stream",
     "text": [
      "*** Hashing ***\n"
     ]
    },
    {
     "name": "stderr",
     "output_type": "stream",
     "text": [
      "100% |########################################################################|\r"
     ]
    },
    {
     "name": "stdout",
     "output_type": "stream",
     "text": [
      "ctr_020.csv done\n",
      "Elapsed:  0:05:11.983247\n",
      "----------------------------\n",
      "\n",
      "Processing ctr_021.csv [21/25]\n",
      "Loading data ...\n",
      "Done\n"
     ]
    },
    {
     "name": "stderr",
     "output_type": "stream",
     "text": [
      "  0% |                                                                        |\r"
     ]
    },
    {
     "name": "stdout",
     "output_type": "stream",
     "text": [
      "Removed features\n",
      "*** Encoding yes/no ***\n"
     ]
    },
    {
     "name": "stderr",
     "output_type": "stream",
     "text": [
      "  0% |                                                                        |\r"
     ]
    },
    {
     "name": "stdout",
     "output_type": "stream",
     "text": [
      "*** Hashing ***\n"
     ]
    },
    {
     "name": "stderr",
     "output_type": "stream",
     "text": [
      "100% |########################################################################|\r"
     ]
    },
    {
     "name": "stdout",
     "output_type": "stream",
     "text": [
      "ctr_021.csv done\n",
      "Elapsed:  0:05:34.881354\n",
      "----------------------------\n",
      "\n",
      "Processing ctr_022.csv [22/25]\n",
      "Loading data ...\n",
      "Done\n"
     ]
    },
    {
     "name": "stderr",
     "output_type": "stream",
     "text": [
      "  0% |                                                                        |\r"
     ]
    },
    {
     "name": "stdout",
     "output_type": "stream",
     "text": [
      "Removed features\n",
      "*** Encoding yes/no ***\n"
     ]
    },
    {
     "name": "stderr",
     "output_type": "stream",
     "text": [
      "  0% |                                                                        |\r"
     ]
    },
    {
     "name": "stdout",
     "output_type": "stream",
     "text": [
      "*** Hashing ***\n"
     ]
    },
    {
     "name": "stderr",
     "output_type": "stream",
     "text": [
      "100% |########################################################################|\r"
     ]
    },
    {
     "name": "stdout",
     "output_type": "stream",
     "text": [
      "ctr_022.csv done\n",
      "Elapsed:  0:05:30.593956\n",
      "----------------------------\n",
      "\n",
      "Processing ctr_023.csv [23/25]\n",
      "Loading data ...\n",
      "Done\n"
     ]
    },
    {
     "name": "stderr",
     "output_type": "stream",
     "text": [
      "  0% |                                                                        |\r"
     ]
    },
    {
     "name": "stdout",
     "output_type": "stream",
     "text": [
      "Removed features\n",
      "*** Encoding yes/no ***\n"
     ]
    },
    {
     "name": "stderr",
     "output_type": "stream",
     "text": [
      "  0% |                                                                        |\r"
     ]
    },
    {
     "name": "stdout",
     "output_type": "stream",
     "text": [
      "*** Hashing ***\n"
     ]
    },
    {
     "name": "stderr",
     "output_type": "stream",
     "text": [
      "100% |########################################################################|\r"
     ]
    },
    {
     "name": "stdout",
     "output_type": "stream",
     "text": [
      "ctr_023.csv done\n",
      "Elapsed:  0:04:47.389536\n",
      "----------------------------\n",
      "\n",
      "Processing ctr_024.csv [24/25]\n",
      "Loading data ...\n",
      "Done\n"
     ]
    },
    {
     "name": "stderr",
     "output_type": "stream",
     "text": [
      "  0% |                                                                        |\r"
     ]
    },
    {
     "name": "stdout",
     "output_type": "stream",
     "text": [
      "Removed features\n",
      "*** Encoding yes/no ***\n"
     ]
    },
    {
     "name": "stderr",
     "output_type": "stream",
     "text": [
      "  0% |                                                                        |\r"
     ]
    },
    {
     "name": "stdout",
     "output_type": "stream",
     "text": [
      "*** Hashing ***\n"
     ]
    },
    {
     "name": "stderr",
     "output_type": "stream",
     "text": [
      "100% |########################################################################|\r"
     ]
    },
    {
     "name": "stdout",
     "output_type": "stream",
     "text": [
      "ctr_024.csv done\n",
      "Elapsed:  0:05:09.752571\n",
      "----------------------------\n",
      "\n",
      "Processing ctr_025.csv [25/25]\n",
      "Loading data ...\n",
      "Done\n"
     ]
    },
    {
     "name": "stderr",
     "output_type": "stream",
     "text": [
      "  0% |                                                                        |\r"
     ]
    },
    {
     "name": "stdout",
     "output_type": "stream",
     "text": [
      "Removed features\n",
      "*** Encoding yes/no ***\n"
     ]
    },
    {
     "name": "stderr",
     "output_type": "stream",
     "text": [
      "  0% |                                                                        |\r"
     ]
    },
    {
     "name": "stdout",
     "output_type": "stream",
     "text": [
      "*** Hashing ***\n"
     ]
    },
    {
     "name": "stderr",
     "output_type": "stream",
     "text": [
      "100% |########################################################################|\r"
     ]
    },
    {
     "name": "stdout",
     "output_type": "stream",
     "text": [
      "ctr_025.csv done\n",
      "Elapsed:  0:05:50.839121\n",
      "----------------------------\n",
      "\n"
     ]
    }
   ],
   "source": [
    "for fileindex in range(start_index, end_index):\n",
    "    start = time.time()\n",
    "    filename = \"ctr_{:03d}.csv\".format(fileindex)\n",
    "    print(\"Processing {} [{}/{}]\".format(filename, fileindex, end_index-1))\n",
    "    \n",
    "    # Load data\n",
    "    print(\"Loading data ...\")\n",
    "    data = load_data(filename)\n",
    "    print(\"Done\")\n",
    "    \n",
    "    # Select columns\n",
    "    data = remove_cols(data, selected_feature_names)\n",
    "    print(\"Removed features\")\n",
    "    \n",
    "    # encode yes/no\n",
    "    data = encode_yes_no(data, yesno_features_to_encode)\n",
    "    \n",
    "    # Hash\n",
    "    print('*** Hashing ***')\n",
    "    pbar2 = progressbar.ProgressBar(maxval=len(features_to_hash)).start()\n",
    "    \n",
    "    for feature in features_to_hash:\n",
    "        data[feature] = hash_col(data, feature)\n",
    "        pbar2.update(features_to_hash.index(feature) + 1)\n",
    "    \n",
    "    # Save data\n",
    "    data.to_csv('/Users/andraz/DataScienceSchool/summer_school/' + filename + '_processed.csv', index=False)\n",
    "    print(filename, \"done\")\n",
    "    end = time.time()\n",
    "    elapsed = end - start\n",
    "    print(\"Elapsed: \", str(datetime.timedelta(seconds=elapsed)))\n",
    "    print(\"----------------------------\")\n",
    "    print()\n",
    "    "
   ]
  },
  {
   "cell_type": "code",
   "execution_count": 9,
   "metadata": {},
   "outputs": [
    {
     "data": {
      "text/plain": [
       "click                     0.000000\n",
       "account_id           819181.000000\n",
       "adgroup_id           777402.000000\n",
       "titlehash            110162.000000\n",
       "imp_adunit                2.000000\n",
       "imp_layout                7.000000\n",
       "imp_seq                   0.000000\n",
       "imp_num                   0.000000\n",
       "impcount                  1.000000\n",
       "urldomain            527445.000000\n",
       "nslashes                  4.000000\n",
       "slideshow                 0.000000\n",
       "pictures                  0.000000\n",
       "gallery                   0.000000\n",
       "listicle                  0.000000\n",
       "quiz                      0.000000\n",
       "video                     0.000000\n",
       "devicetype                2.000000\n",
       "os2                   60742.000000\n",
       "devicemodel          430763.000000\n",
       "conntype                  0.000000\n",
       "browser              831090.000000\n",
       "has_zuid                  1.000000\n",
       "has_clicked               0.000000\n",
       "fp_nclicks_dom_1h         0.000000\n",
       "fp_nseen_all_1h           9.000000\n",
       "fp_nclicks_all_1h         0.000000\n",
       "fp_nseen_dom_1h           0.000000\n",
       "country              291028.000000\n",
       "metro                     0.000000\n",
       "bid_floor                 0.100000\n",
       "win_price                 0.148829\n",
       "Name: 0, dtype: float64"
      ]
     },
     "execution_count": 9,
     "metadata": {},
     "output_type": "execute_result"
    }
   ],
   "source": [
    "data.loc[0]"
   ]
  },
  {
   "cell_type": "code",
   "execution_count": 3,
   "metadata": {},
   "outputs": [
    {
     "data": {
      "text/plain": [
       "34"
      ]
     },
     "execution_count": 3,
     "metadata": {},
     "output_type": "execute_result"
    }
   ],
   "source": [
    "len(selected_feature_names)"
   ]
  },
  {
   "cell_type": "code",
   "execution_count": null,
   "metadata": {
    "collapsed": true
   },
   "outputs": [],
   "source": []
  }
 ],
 "metadata": {
  "kernelspec": {
   "display_name": "Python 3",
   "language": "python",
   "name": "python3"
  },
  "language_info": {
   "codemirror_mode": {
    "name": "ipython",
    "version": 3
   },
   "file_extension": ".py",
   "mimetype": "text/x-python",
   "name": "python",
   "nbconvert_exporter": "python",
   "pygments_lexer": "ipython3",
   "version": "3.6.2"
  }
 },
 "nbformat": 4,
 "nbformat_minor": 2
}
